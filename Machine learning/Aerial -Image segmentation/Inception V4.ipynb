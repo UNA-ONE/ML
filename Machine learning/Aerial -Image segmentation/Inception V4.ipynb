{
 "cells": [
  {
   "cell_type": "code",
   "execution_count": 10,
   "id": "255acf3e",
   "metadata": {},
   "outputs": [
    {
     "name": "stdout",
     "output_type": "stream",
     "text": [
      "Requirement already satisfied: torch in c:\\users\\anita\\anaconda3\\lib\\site-packages (1.13.1)\n",
      "Requirement already satisfied: typing-extensions in c:\\users\\anita\\anaconda3\\lib\\site-packages (from torch) (4.3.0)\n",
      "Note: you may need to restart the kernel to use updated packages.\n"
     ]
    }
   ],
   "source": [
    "    \n",
    "pip install torch\n"
   ]
  },
  {
   "cell_type": "code",
   "execution_count": 11,
   "id": "bda87369",
   "metadata": {},
   "outputs": [
    {
     "name": "stdout",
     "output_type": "stream",
     "text": [
      "Collecting torchvisionNote: you may need to restart the kernel to use updated packages.\n",
      "\n",
      "  Downloading torchvision-0.14.1-cp39-cp39-win_amd64.whl (1.1 MB)\n",
      "     ---------------------------------------- 1.1/1.1 MB 3.8 MB/s eta 0:00:00\n",
      "Requirement already satisfied: requests in c:\\users\\anita\\anaconda3\\lib\\site-packages (from torchvision) (2.28.1)\n",
      "Requirement already satisfied: pillow!=8.3.*,>=5.3.0 in c:\\users\\anita\\anaconda3\\lib\\site-packages (from torchvision) (9.2.0)\n",
      "Requirement already satisfied: torch==1.13.1 in c:\\users\\anita\\anaconda3\\lib\\site-packages (from torchvision) (1.13.1)\n",
      "Requirement already satisfied: typing-extensions in c:\\users\\anita\\anaconda3\\lib\\site-packages (from torchvision) (4.3.0)\n",
      "Requirement already satisfied: numpy in c:\\users\\anita\\anaconda3\\lib\\site-packages (from torchvision) (1.21.5)\n",
      "Requirement already satisfied: certifi>=2017.4.17 in c:\\users\\anita\\anaconda3\\lib\\site-packages (from requests->torchvision) (2022.9.14)\n",
      "Requirement already satisfied: idna<4,>=2.5 in c:\\users\\anita\\anaconda3\\lib\\site-packages (from requests->torchvision) (3.3)\n",
      "Requirement already satisfied: charset-normalizer<3,>=2 in c:\\users\\anita\\anaconda3\\lib\\site-packages (from requests->torchvision) (2.0.4)\n",
      "Requirement already satisfied: urllib3<1.27,>=1.21.1 in c:\\users\\anita\\anaconda3\\lib\\site-packages (from requests->torchvision) (1.26.11)\n",
      "Installing collected packages: torchvision\n",
      "Successfully installed torchvision-0.14.1\n"
     ]
    }
   ],
   "source": [
    "pip install torchvision\n"
   ]
  },
  {
   "cell_type": "code",
   "execution_count": 13,
   "id": "abf934b9",
   "metadata": {},
   "outputs": [
    {
     "name": "stdout",
     "output_type": "stream",
     "text": [
      "Collecting cv2module\n",
      "  Downloading cv2module-0.1.2-py3-none-any.whl (6.7 kB)\n",
      "Requirement already satisfied: numpy>=1.18.1 in c:\\users\\anita\\anaconda3\\lib\\site-packages (from cv2module) (1.21.5)\n",
      "Collecting opencv-python>=4.2.0.32\n",
      "  Downloading opencv_python-4.7.0.72-cp37-abi3-win_amd64.whl (38.2 MB)\n",
      "     ---------------------------------------- 38.2/38.2 MB 7.7 MB/s eta 0:00:00\n",
      "Installing collected packages: opencv-python, cv2module\n",
      "Successfully installed cv2module-0.1.2 opencv-python-4.7.0.72\n",
      "Note: you may need to restart the kernel to use updated packages.\n"
     ]
    }
   ],
   "source": [
    "pip install cv2module"
   ]
  },
  {
   "cell_type": "code",
   "execution_count": 24,
   "id": "56197680",
   "metadata": {},
   "outputs": [
    {
     "name": "stdout",
     "output_type": "stream",
     "text": [
      "Requirement already satisfied: albumentations in c:\\users\\anita\\appdata\\roaming\\python\\python39\\site-packages (1.3.0)\n",
      "Requirement already satisfied: PyYAML in c:\\users\\anita\\anaconda3\\lib\\site-packages (from albumentations) (6.0)\n",
      "Requirement already satisfied: qudida>=0.0.4 in c:\\users\\anita\\appdata\\roaming\\python\\python39\\site-packages (from albumentations) (0.0.4)\n",
      "Requirement already satisfied: opencv-python-headless>=4.1.1 in c:\\users\\anita\\appdata\\roaming\\python\\python39\\site-packages (from albumentations) (4.7.0.72)\n",
      "Requirement already satisfied: scikit-image>=0.16.1 in c:\\users\\anita\\anaconda3\\lib\\site-packages (from albumentations) (0.19.2)\n",
      "Requirement already satisfied: scipy in c:\\users\\anita\\anaconda3\\lib\\site-packages (from albumentations) (1.9.1)\n",
      "Requirement already satisfied: numpy>=1.11.1 in c:\\users\\anita\\anaconda3\\lib\\site-packages (from albumentations) (1.21.5)\n",
      "Requirement already satisfied: scikit-learn>=0.19.1 in c:\\users\\anita\\anaconda3\\lib\\site-packages (from qudida>=0.0.4->albumentations) (1.0.2)\n",
      "Requirement already satisfied: typing-extensions in c:\\users\\anita\\anaconda3\\lib\\site-packages (from qudida>=0.0.4->albumentations) (4.3.0)\n",
      "Requirement already satisfied: networkx>=2.2 in c:\\users\\anita\\anaconda3\\lib\\site-packages (from scikit-image>=0.16.1->albumentations) (2.8.4)\n",
      "Requirement already satisfied: pillow!=7.1.0,!=7.1.1,!=8.3.0,>=6.1.0 in c:\\users\\anita\\anaconda3\\lib\\site-packages (from scikit-image>=0.16.1->albumentations) (9.2.0)\n",
      "Requirement already satisfied: packaging>=20.0 in c:\\users\\anita\\anaconda3\\lib\\site-packages (from scikit-image>=0.16.1->albumentations) (21.3)\n",
      "Requirement already satisfied: PyWavelets>=1.1.1 in c:\\users\\anita\\anaconda3\\lib\\site-packages (from scikit-image>=0.16.1->albumentations) (1.3.0)\n",
      "Requirement already satisfied: tifffile>=2019.7.26 in c:\\users\\anita\\anaconda3\\lib\\site-packages (from scikit-image>=0.16.1->albumentations) (2021.7.2)\n",
      "Requirement already satisfied: imageio>=2.4.1 in c:\\users\\anita\\anaconda3\\lib\\site-packages (from scikit-image>=0.16.1->albumentations) (2.19.3)\n",
      "Requirement already satisfied: pyparsing!=3.0.5,>=2.0.2 in c:\\users\\anita\\anaconda3\\lib\\site-packages (from packaging>=20.0->scikit-image>=0.16.1->albumentations) (3.0.9)\n",
      "Requirement already satisfied: joblib>=0.11 in c:\\users\\anita\\anaconda3\\lib\\site-packages (from scikit-learn>=0.19.1->qudida>=0.0.4->albumentations) (1.1.0)\n",
      "Requirement already satisfied: threadpoolctl>=2.0.0 in c:\\users\\anita\\anaconda3\\lib\\site-packages (from scikit-learn>=0.19.1->qudida>=0.0.4->albumentations) (2.2.0)\n",
      "Note: you may need to restart the kernel to use updated packages.\n"
     ]
    }
   ],
   "source": [
    "pip install -U albumentations"
   ]
  },
  {
   "cell_type": "code",
   "execution_count": 30,
   "id": "7cf5bb93",
   "metadata": {},
   "outputs": [
    {
     "name": "stdout",
     "output_type": "stream",
     "text": [
      "Collecting segmentation-models-pytorch\n",
      "  Downloading segmentation_models_pytorch-0.3.2-py3-none-any.whl (106 kB)\n",
      "     -------------------------------------- 106.7/106.7 kB 1.5 MB/s eta 0:00:00\n",
      "Collecting timm==0.6.12\n",
      "  Downloading timm-0.6.12-py3-none-any.whl (549 kB)\n",
      "     -------------------------------------- 549.1/549.1 kB 4.9 MB/s eta 0:00:00\n",
      "Collecting efficientnet-pytorch==0.7.1\n",
      "  Downloading efficientnet_pytorch-0.7.1.tar.gz (21 kB)\n",
      "  Preparing metadata (setup.py): started\n",
      "  Preparing metadata (setup.py): finished with status 'done'\n",
      "Requirement already satisfied: tqdm in c:\\users\\anita\\anaconda3\\lib\\site-packages (from segmentation-models-pytorch) (4.64.1)\n",
      "Requirement already satisfied: torchvision>=0.5.0 in c:\\users\\anita\\anaconda3\\lib\\site-packages (from segmentation-models-pytorch) (0.14.1)\n",
      "Requirement already satisfied: pillow in c:\\users\\anita\\anaconda3\\lib\\site-packages (from segmentation-models-pytorch) (9.2.0)\n",
      "Collecting pretrainedmodels==0.7.4\n",
      "  Downloading pretrainedmodels-0.7.4.tar.gz (58 kB)\n",
      "     ---------------------------------------- 58.8/58.8 kB ? eta 0:00:00\n",
      "  Preparing metadata (setup.py): started\n",
      "  Preparing metadata (setup.py): finished with status 'done'\n",
      "Requirement already satisfied: torch in c:\\users\\anita\\anaconda3\\lib\\site-packages (from efficientnet-pytorch==0.7.1->segmentation-models-pytorch) (1.13.1)\n",
      "Collecting munch\n",
      "  Downloading munch-2.5.0-py2.py3-none-any.whl (10 kB)\n",
      "Collecting huggingface-hub\n",
      "  Downloading huggingface_hub-0.13.1-py3-none-any.whl (199 kB)\n",
      "     ------------------------------------- 199.2/199.2 kB 11.8 MB/s eta 0:00:00\n",
      "Requirement already satisfied: pyyaml in c:\\users\\anita\\anaconda3\\lib\\site-packages (from timm==0.6.12->segmentation-models-pytorch) (6.0)\n",
      "Requirement already satisfied: requests in c:\\users\\anita\\anaconda3\\lib\\site-packages (from torchvision>=0.5.0->segmentation-models-pytorch) (2.28.1)\n",
      "Requirement already satisfied: typing-extensions in c:\\users\\anita\\anaconda3\\lib\\site-packages (from torchvision>=0.5.0->segmentation-models-pytorch) (4.3.0)\n",
      "Requirement already satisfied: numpy in c:\\users\\anita\\anaconda3\\lib\\site-packages (from torchvision>=0.5.0->segmentation-models-pytorch) (1.21.5)\n",
      "Requirement already satisfied: colorama in c:\\users\\anita\\anaconda3\\lib\\site-packages (from tqdm->segmentation-models-pytorch) (0.4.5)\n",
      "Requirement already satisfied: packaging>=20.9 in c:\\users\\anita\\anaconda3\\lib\\site-packages (from huggingface-hub->timm==0.6.12->segmentation-models-pytorch) (21.3)\n",
      "Requirement already satisfied: filelock in c:\\users\\anita\\anaconda3\\lib\\site-packages (from huggingface-hub->timm==0.6.12->segmentation-models-pytorch) (3.6.0)\n",
      "Requirement already satisfied: six in c:\\users\\anita\\anaconda3\\lib\\site-packages (from munch->pretrainedmodels==0.7.4->segmentation-models-pytorch) (1.16.0)\n",
      "Requirement already satisfied: urllib3<1.27,>=1.21.1 in c:\\users\\anita\\anaconda3\\lib\\site-packages (from requests->torchvision>=0.5.0->segmentation-models-pytorch) (1.26.11)\n",
      "Requirement already satisfied: idna<4,>=2.5 in c:\\users\\anita\\anaconda3\\lib\\site-packages (from requests->torchvision>=0.5.0->segmentation-models-pytorch) (3.3)\n",
      "Requirement already satisfied: certifi>=2017.4.17 in c:\\users\\anita\\anaconda3\\lib\\site-packages (from requests->torchvision>=0.5.0->segmentation-models-pytorch) (2022.9.14)\n",
      "Requirement already satisfied: charset-normalizer<3,>=2 in c:\\users\\anita\\anaconda3\\lib\\site-packages (from requests->torchvision>=0.5.0->segmentation-models-pytorch) (2.0.4)\n",
      "Requirement already satisfied: pyparsing!=3.0.5,>=2.0.2 in c:\\users\\anita\\anaconda3\\lib\\site-packages (from packaging>=20.9->huggingface-hub->timm==0.6.12->segmentation-models-pytorch) (3.0.9)\n",
      "Building wheels for collected packages: efficientnet-pytorch, pretrainedmodels\n",
      "  Building wheel for efficientnet-pytorch (setup.py): started\n",
      "  Building wheel for efficientnet-pytorch (setup.py): finished with status 'done'\n",
      "  Created wheel for efficientnet-pytorch: filename=efficientnet_pytorch-0.7.1-py3-none-any.whl size=16428 sha256=6a619e5748b8b7082dabd7b21a299b87d501c8c50b61ec5eb3ab4bde599ef47e\n",
      "  Stored in directory: c:\\users\\anita\\appdata\\local\\pip\\cache\\wheels\\29\\16\\24\\752e89d88d333af39a288421e64d613b5f652918e39ef1f8e3\n",
      "  Building wheel for pretrainedmodels (setup.py): started\n",
      "  Building wheel for pretrainedmodels (setup.py): finished with status 'done'\n",
      "  Created wheel for pretrainedmodels: filename=pretrainedmodels-0.7.4-py3-none-any.whl size=60944 sha256=19934d711cb2cf31ce895c2d3a7d0742774bcb915c19c3dee7d1729b8b9ca388\n",
      "  Stored in directory: c:\\users\\anita\\appdata\\local\\pip\\cache\\wheels\\d1\\3b\\4e\\2f3015f1ab76f34be28e04c4bcee27e8cabfa70d2eadf8bc3b\n",
      "Successfully built efficientnet-pytorch pretrainedmodels\n",
      "Installing collected packages: munch, huggingface-hub, efficientnet-pytorch, timm, pretrainedmodels, segmentation-models-pytorch\n",
      "Successfully installed efficientnet-pytorch-0.7.1 huggingface-hub-0.13.1 munch-2.5.0 pretrainedmodels-0.7.4 segmentation-models-pytorch-0.3.2 timm-0.6.12\n",
      "Note: you may need to restart the kernel to use updated packages.\n"
     ]
    }
   ],
   "source": [
    "pip install segmentation-models-pytorch"
   ]
  },
  {
   "cell_type": "code",
   "execution_count": 31,
   "id": "29382c41",
   "metadata": {},
   "outputs": [
    {
     "ename": "ModuleNotFoundError",
     "evalue": "No module named 'albumentations'",
     "output_type": "error",
     "traceback": [
      "\u001b[1;31m---------------------------------------------------------------------------\u001b[0m",
      "\u001b[1;31mModuleNotFoundError\u001b[0m                       Traceback (most recent call last)",
      "\u001b[1;32m~\\AppData\\Local\\Temp\\ipykernel_41656\\195755321.py\u001b[0m in \u001b[0;36m<module>\u001b[1;34m\u001b[0m\n\u001b[0;32m     24\u001b[0m \u001b[0mdevice\u001b[0m \u001b[1;33m=\u001b[0m \u001b[0mtorch\u001b[0m\u001b[1;33m.\u001b[0m\u001b[0mdevice\u001b[0m\u001b[1;33m(\u001b[0m\u001b[1;34m\"cuda\"\u001b[0m \u001b[1;32mif\u001b[0m \u001b[0mtorch\u001b[0m\u001b[1;33m.\u001b[0m\u001b[0mcuda\u001b[0m\u001b[1;33m.\u001b[0m\u001b[0mis_available\u001b[0m\u001b[1;33m(\u001b[0m\u001b[1;33m)\u001b[0m \u001b[1;32melse\u001b[0m \u001b[1;34m\"cpu\"\u001b[0m\u001b[1;33m)\u001b[0m\u001b[1;33m\u001b[0m\u001b[1;33m\u001b[0m\u001b[0m\n\u001b[0;32m     25\u001b[0m \u001b[1;33m\u001b[0m\u001b[0m\n\u001b[1;32m---> 26\u001b[1;33m \u001b[1;32mfrom\u001b[0m \u001b[0mutils\u001b[0m \u001b[1;32mimport\u001b[0m \u001b[1;33m*\u001b[0m\u001b[1;33m\u001b[0m\u001b[1;33m\u001b[0m\u001b[0m\n\u001b[0m\u001b[0;32m     27\u001b[0m \u001b[1;32mfrom\u001b[0m \u001b[0mtrain\u001b[0m \u001b[1;32mimport\u001b[0m \u001b[1;33m*\u001b[0m\u001b[1;33m\u001b[0m\u001b[1;33m\u001b[0m\u001b[0m\n\u001b[0;32m     28\u001b[0m \u001b[1;32mfrom\u001b[0m \u001b[0mdatagen\u001b[0m \u001b[1;32mimport\u001b[0m \u001b[1;33m*\u001b[0m\u001b[1;33m\u001b[0m\u001b[1;33m\u001b[0m\u001b[0m\n",
      "\u001b[1;32m~\\OneDrive\\Desktop\\Deep Learning\\Machine learning\\Aerial -Image segmentation\\utils.py\u001b[0m in \u001b[0;36m<module>\u001b[1;34m\u001b[0m\n\u001b[0;32m     18\u001b[0m \u001b[1;32mfrom\u001b[0m \u001b[0mPIL\u001b[0m \u001b[1;32mimport\u001b[0m \u001b[0mImage\u001b[0m\u001b[1;33m\u001b[0m\u001b[1;33m\u001b[0m\u001b[0m\n\u001b[0;32m     19\u001b[0m \u001b[1;32mimport\u001b[0m \u001b[0mcv2\u001b[0m\u001b[1;33m\u001b[0m\u001b[1;33m\u001b[0m\u001b[0m\n\u001b[1;32m---> 20\u001b[1;33m \u001b[1;32mimport\u001b[0m \u001b[0malbumentations\u001b[0m \u001b[1;32mas\u001b[0m \u001b[0mA\u001b[0m\u001b[1;33m\u001b[0m\u001b[1;33m\u001b[0m\u001b[0m\n\u001b[0m\u001b[0;32m     21\u001b[0m \u001b[1;32mimport\u001b[0m \u001b[0msegmentation_models_pytorch\u001b[0m \u001b[1;32mas\u001b[0m \u001b[0msmp\u001b[0m\u001b[1;33m\u001b[0m\u001b[1;33m\u001b[0m\u001b[0m\n\u001b[0;32m     22\u001b[0m \u001b[1;32mfrom\u001b[0m \u001b[0mos\u001b[0m\u001b[1;33m.\u001b[0m\u001b[0mpath\u001b[0m \u001b[1;32mimport\u001b[0m \u001b[0misfile\u001b[0m\u001b[1;33m,\u001b[0m \u001b[0mjoin\u001b[0m\u001b[1;33m\u001b[0m\u001b[1;33m\u001b[0m\u001b[0m\n",
      "\u001b[1;31mModuleNotFoundError\u001b[0m: No module named 'albumentations'"
     ]
    }
   ],
   "source": [
    "import time\n",
    "import os\n",
    "from tqdm.notebook import tqdm\n",
    "\n",
    "import numpy as np \n",
    "import pandas as pd\n",
    "import matplotlib.pyplot as plt\n",
    "import imageio \n",
    "\n",
    "from sklearn.model_selection import train_test_split\n",
    "\n",
    "import torch\n",
    "import torch.nn as nn\n",
    "from torch.utils.data import Dataset, DataLoader\n",
    "from torchvision import transforms as T\n",
    "import torch.nn.functional as F\n",
    "\n",
    "from PIL import Image\n",
    "import cv2\n",
    "# import albumentations as A\n",
    "\n",
    "import segmentation_models_pytorch as smp\n",
    "\n",
    "device = torch.device(\"cuda\" if torch.cuda.is_available() else \"cpu\")\n",
    "\n",
    "from utils import *\n",
    "from train import *\n",
    "from datagen import *"
   ]
  },
  {
   "cell_type": "code",
   "execution_count": 27,
   "id": "23226ffe",
   "metadata": {},
   "outputs": [],
   "source": [
    "# Path in Local Machine\n",
    "root_img_path = '../../input/semantic-drone-dataset/dataset/original_images/'\n",
    "root_mask_path = '../../input/semantic-drone-dataset/dataset/label_images_semantic/'"
   ]
  },
  {
   "cell_type": "code",
   "execution_count": null,
   "id": "df3cd99e",
   "metadata": {},
   "outputs": [],
   "source": []
  }
 ],
 "metadata": {
  "kernelspec": {
   "display_name": "Python 3 (ipykernel)",
   "language": "python",
   "name": "python3"
  },
  "language_info": {
   "codemirror_mode": {
    "name": "ipython",
    "version": 3
   },
   "file_extension": ".py",
   "mimetype": "text/x-python",
   "name": "python",
   "nbconvert_exporter": "python",
   "pygments_lexer": "ipython3",
   "version": "3.9.13"
  }
 },
 "nbformat": 4,
 "nbformat_minor": 5
}
